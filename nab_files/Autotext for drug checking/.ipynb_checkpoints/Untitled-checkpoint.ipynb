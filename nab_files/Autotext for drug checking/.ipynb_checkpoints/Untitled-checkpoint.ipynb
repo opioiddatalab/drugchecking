{
 "cells": [
  {
   "cell_type": "markdown",
   "id": "11b74f80-c096-476c-95ab-06342be6cf21",
   "metadata": {},
   "source": [
    "# X:BOT Adverse Event Analysis"
   ]
  },
  {
   "cell_type": "code",
   "execution_count": 1,
   "id": "c504ee33-d5cf-4940-8167-84b3e4961f92",
   "metadata": {},
   "outputs": [
    {
     "name": "stdout",
     "output_type": "stream",
     "text": [
      "\n",
      "/Users/nabarun/Dropbox/DATA/NIDA Clinical Trials/XBOT Clinical trial data\n",
      "\n",
      "(encoding automatically selected: ISO-8859-1)\n",
      "(30 vars, 658 obs)\n",
      "\n",
      "\n",
      "Contains data\n",
      " Observations:           658                  \n",
      "    Variables:            30                  \n",
      "--------------------------------------------------------------------------------\n",
      "Variable      Storage   Display    Value\n",
      "    name         type    format    label      Variable label\n",
      "--------------------------------------------------------------------------------\n",
      "prot            byte    %8.0g                 PROT\n",
      "patid           long    %12.0g                PATID\n",
      "site            byte    %8.0g                 SITE\n",
      "randdt          byte    %8.0g                 RANDDT\n",
      "aedate          int     %8.0g                 AEDATE\n",
      "aeseqnum        byte    %8.0g                 AESEQNUM\n",
      "a1spinae        str32   %32s                  A1SPINAE\n",
      "a1descpt        str48   %48s                  A1DESCPT\n",
      "a1awardt        int     %8.0g                 A1AWARDT\n",
      "a1sevrty        byte    %8.0g                 A1SEVRTY\n",
      "a1rdrug2        byte    %8.0g                 A1RDRUG2\n",
      "a1adrug2        byte    %8.0g                 A1ADRUG2\n",
      "a1rdrug1        byte    %8.0g                 A1RDRUG1\n",
      "a1adrug1        byte    %8.0g                 A1ADRUG1\n",
      "a1altesd        byte    %8.0g                 A1ALTESD\n",
      "a1aepsp         str64   %64s                  A1AEPSP\n",
      "a1outcm         byte    %8.0g                 A1OUTCM\n",
      "a1resdt         int     %8.0g                 A1RESDT\n",
      "a1assoc         byte    %8.0g                 A1ASSOC\n",
      "a1dthdt         int     %8.0g                 A1DTHDT\n",
      "a1hospad        int     %8.0g                 A1HOSPAD\n",
      "a1hospdc        int     %8.0g                 A1HOSPDC\n",
      "ad1comm         byte    %8.0g                 AD1COMM\n",
      "verbatim        str48   %48s                  VERBATIM\n",
      "version         str12   %12s                  VERSION\n",
      "pt              str36   %36s                  PT\n",
      "soc             str52   %52s                  SOC\n",
      "llt             str36   %36s                  LLT\n",
      "hlt             str63   %63s                  HLT\n",
      "hlgt            str86   %86s                  HLGT\n",
      "--------------------------------------------------------------------------------\n",
      "Sorted by: \n",
      "     Note: Dataset has changed since last saved.\n"
     ]
    }
   ],
   "source": [
    "// Load data\n",
    "cd \"/Users/nabarun/Dropbox/DATA/NIDA Clinical Trials/XBOT Clinical trial data\"\n",
    "import delimited AD1.csv, varnames(1) clear\n",
    "describe"
   ]
  },
  {
   "cell_type": "code",
   "execution_count": 2,
   "id": "8fdc1199-a8c2-4401-8cf5-e84f45501be1",
   "metadata": {},
   "outputs": [
    {
     "name": "stdout",
     "output_type": "stream",
     "text": [
      "\n",
      "       |        Observations\n",
      "       |      total   distinct\n",
      "-------+----------------------\n",
      " patid |        658        287\n"
     ]
    }
   ],
   "source": [
    "// Number of unique patients and AEs\n",
    "distinct patid"
   ]
  },
  {
   "cell_type": "markdown",
   "id": "44e30123-1626-4dc5-932c-b1b4070dafea",
   "metadata": {},
   "source": [
    "Total AEs: 658<br>\n",
    "Unique patients: 287"
   ]
  },
  {
   "cell_type": "markdown",
   "id": "0bb53778-4c9d-4910-80a8-56faf0ba13e9",
   "metadata": {},
   "source": [
    "---\n",
    "Variable AESEQNUM indexes how many separate PTs were recorded for each event.<br>\n",
    "Q: What was the distribution of AEs per event?"
   ]
  },
  {
   "cell_type": "code",
   "execution_count": 3,
   "id": "d514f45e-1c5b-44a1-a2a4-329585da98e0",
   "metadata": {},
   "outputs": [
    {
     "name": "stdout",
     "output_type": "stream",
     "text": [
      "\n",
      "(start=1, width=1)\n",
      "\n",
      "file /Users/nabarun/.stata_kernel_cache/graph0.svg saved as SVG format\n",
      "file /Users/nabarun/.stata_kernel_cache/graph0.pdf saved as PDF format\n",
      "\n",
      "\n",
      "   AESEQNUM |      Freq.     Percent        Cum.\n",
      "------------+-----------------------------------\n",
      "          1 |        551       83.74       83.74\n",
      "          2 |         78       11.85       95.59\n",
      "          3 |         19        2.89       98.48\n",
      "          4 |          7        1.06       99.54\n",
      "          5 |          3        0.46      100.00\n",
      "------------+-----------------------------------\n",
      "      Total |        658      100.00\n"
     ]
    }
   ],
   "source": [
    "hist aeseqnum, freq d\n",
    "tab aeseqnum"
   ]
  },
  {
   "cell_type": "markdown",
   "id": "7cb82b62-08fb-4691-b78c-2947a999fab2",
   "metadata": {},
   "source": [
    "---\n",
    "## Most common AEs\n",
    "tab pt, sort"
   ]
  },
  {
   "cell_type": "markdown",
   "id": "26ffb08d-db0d-4cff-a474-967c2bee62ae",
   "metadata": {},
   "source": [
    "---\n",
    "## Identify overdose cases\n",
    "Use variables `pt` `a1descpt` and `a1aepsp`"
   ]
  },
  {
   "cell_type": "code",
   "execution_count": 6,
   "id": "e1e6087b-a4aa-4390-8f61-10a3edd9bc40",
   "metadata": {},
   "outputs": [
    {
     "name": "stdout",
     "output_type": "stream",
     "text": [
      "\n",
      "\n",
      "       |        Observations\n",
      "       |      total   distinct\n",
      "-------+----------------------\n",
      " patid |         34         28\n",
      "\n",
      "(624 missing values generated)\n",
      "\n",
      "\n",
      "         od |      Freq.     Percent        Cum.\n",
      "------------+-----------------------------------\n",
      "          1 |         34      100.00      100.00\n",
      "------------+-----------------------------------\n",
      "      Total |         34      100.00\n"
     ]
    }
   ],
   "source": [
    "distinct patid if regexm(lower(pt),\"overdose\") | regexm(lower(a1descpt),\"overdose\") | regexm(lower(a1aepsp),\"overdose\")\n",
    "qui: gen od=1 if regexm(lower(pt),\"overdose\") | regexm(lower(a1descpt),\"overdose\") | regexm(lower(a1aepsp),\"overdose\")\n",
    "tab od"
   ]
  },
  {
   "cell_type": "code",
   "execution_count": 8,
   "id": "93ff9b57-bba2-4bf7-b421-a28a2defb481",
   "metadata": {},
   "outputs": [
    {
     "name": "stdout",
     "output_type": "stream",
     "text": [
      "\n",
      "                                  PT |      Freq.     Percent        Cum.\n",
      "-------------------------------------+-----------------------------------\n",
      "                        Constipation |         30        4.56        4.56\n",
      "                            Overdose |         28        4.26        8.81\n",
      "                            Headache |         24        3.65       12.46\n",
      "                            Vomiting |         23        3.50       15.96\n",
      "                   Suicidal ideation |         21        3.19       19.15\n",
      "                              Nausea |         19        2.89       22.04\n",
      "                           Diarrhoea |         18        2.74       24.77\n",
      "                            Insomnia |         16        2.43       27.20\n",
      "                             Anxiety |         14        2.13       29.33\n",
      "                          Cellulitis |         11        1.67       31.00\n",
      "                            Migraine |         10        1.52       32.52\n",
      "             Transaminases increased |         10        1.52       34.04\n",
      "   Upper respiratory tract infection |         10        1.52       35.56\n",
      "                           Back pain |          9        1.37       36.93\n",
      "                           Toothache |          9        1.37       38.30\n",
      "                          Arthralgia |          8        1.22       39.51\n",
      "                      Depressed mood |          8        1.22       40.73\n",
      "                       Hyperhidrosis |          8        1.22       41.95\n",
      "                        Panic attack |          8        1.22       43.16\n",
      "                           Pneumonia |          8        1.22       44.38\n",
      "                Abdominal pain upper |          7        1.06       45.44\n",
      "                          Bronchitis |          7        1.06       46.50\n",
      "                  Decreased appetite |          7        1.06       47.57\n",
      "            Drug withdrawal syndrome |          7        1.06       48.63\n",
      "                      Abdominal pain |          6        0.91       49.54\n",
      "                        Abscess limb |          6        0.91       50.46\n",
      "                          Depression |          6        0.91       51.37\n",
      "            Hepatic enzyme increased |          6        0.91       52.28\n",
      "                           Hot flush |          6        0.91       53.19\n",
      "                          Somnolence |          6        0.91       54.10\n",
      "                             Syncope |          6        0.91       55.02\n",
      "                          Chest pain |          5        0.76       55.78\n",
      "                           Dizziness |          5        0.76       56.53\n",
      "                             Myalgia |          5        0.76       57.29\n",
      "               Oral mucosal erythema |          5        0.76       58.05\n",
      "                 Peripheral swelling |          5        0.76       58.81\n",
      "                             Seizure |          5        0.76       59.57\n",
      "                            Asthenia |          4        0.61       60.18\n",
      "                               Cough |          4        0.61       60.79\n",
      "                             Fatigue |          4        0.61       61.40\n",
      "                          Laceration |          4        0.61       62.01\n",
      "                         Limb injury |          4        0.61       62.61\n",
      "                     Nephrolithiasis |          4        0.61       63.22\n",
      "                   Oedema peripheral |          4        0.61       63.83\n",
      "              Respiratory depression |          4        0.61       64.44\n",
      "                    Tooth extraction |          4        0.61       65.05\n",
      "                Abdominal discomfort |          3        0.46       65.50\n",
      "                              Chills |          3        0.46       65.96\n",
      "                           Contusion |          3        0.46       66.41\n",
      "                           Influenza |          3        0.46       66.87\n",
      "                      Joint swelling |          3        0.46       67.33\n",
      "                     Ligament sprain |          3        0.46       67.78\n",
      "                       Muscle strain |          3        0.46       68.24\n",
      "                Musculoskeletal pain |          3        0.46       68.69\n",
      "                  Oropharyngeal pain |          3        0.46       69.15\n",
      "                                Pain |          3        0.46       69.60\n",
      "            Self injurious behaviour |          3        0.46       70.06\n",
      "                     Suicide attempt |          3        0.46       70.52\n",
      "                              Tremor |          3        0.46       70.97\n",
      "             Urinary tract infection |          3        0.46       71.43\n",
      "                      Vision blurred |          3        0.46       71.88\n",
      "                             Abscess |          2        0.30       72.19\n",
      "              Carpal tunnel syndrome |          2        0.30       72.49\n",
      "                         Dehydration |          2        0.30       72.80\n",
      "    Depressed level of consciousness |          2        0.30       73.10\n",
      "                 Depression suicidal |          2        0.30       73.40\n",
      "                          Drug abuse |          2        0.30       73.71\n",
      "                           Dyspepsia |          2        0.30       74.01\n",
      "                            Dyspnoea |          2        0.30       74.32\n",
      "                             Dysuria |          2        0.30       74.62\n",
      "                           Epistaxis |          2        0.30       74.92\n",
      "                Erectile dysfunction |          2        0.30       75.23\n",
      "                       Eye contusion |          2        0.30       75.53\n",
      "                      Eye irritation |          2        0.30       75.84\n",
      "                     Gastroenteritis |          2        0.30       76.14\n",
      "                           Glossitis |          2        0.30       76.44\n",
      "                         Glossodynia |          2        0.30       76.75\n",
      "                      Ingrowing nail |          2        0.30       77.05\n",
      "                    Kidney infection |          2        0.30       77.36\n",
      "       Liver function test increased |          2        0.30       77.66\n",
      "                      Loss of libido |          2        0.30       77.96\n",
      "                           Neck pain |          2        0.30       78.27\n",
      "                        Paraesthesia |          2        0.30       78.57\n",
      "                            Pruritus |          2        0.30       78.88\n",
      "                             Pyrexia |          2        0.30       79.18\n",
      "                                Rash |          2        0.30       79.48\n",
      "              Restless legs syndrome |          2        0.30       79.79\n",
      "                         Rhinorrhoea |          2        0.30       80.09\n",
      "               Road traffic accident |          2        0.30       80.40\n",
      "                           Sinusitis |          2        0.30       80.70\n",
      "                       Skin abrasion |          2        0.30       81.00\n",
      "Substance-induced psychotic disorder |          2        0.30       81.31\n",
      "                    Weight decreased |          2        0.30       81.61\n",
      "                Abdominal pain lower |          1        0.15       81.76\n",
      "                        Abscess neck |          1        0.15       81.91\n",
      "               Adverse drug reaction |          1        0.15       82.07\n",
      "                  Affective disorder |          1        0.15       82.22\n",
      "--more--\n"
     ]
    }
   ],
   "source": []
  },
  {
   "cell_type": "code",
   "execution_count": null,
   "id": "ef13befd-250a-47e8-8e76-84902dd99b82",
   "metadata": {},
   "outputs": [],
   "source": []
  }
 ],
 "metadata": {
  "kernelspec": {
   "display_name": "Stata",
   "language": "stata",
   "name": "stata"
  },
  "language_info": {
   "codemirror_mode": "stata",
   "file_extension": ".do",
   "mimetype": "text/x-stata",
   "name": "stata",
   "version": "15.1"
  }
 },
 "nbformat": 4,
 "nbformat_minor": 5
}
