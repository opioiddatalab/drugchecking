{
 "cells": [
  {
   "cell_type": "markdown",
   "id": "d2dca907-ad59-4779-9aab-58b250e0dbe9",
   "metadata": {},
   "source": [
    "# Minimum Data Proficiency Guide\n",
    "## UNC Street Drug Analysis Lab\n",
    "\n",
    "---"
   ]
  },
  {
   "cell_type": "markdown",
   "id": "e84ca6e1-aee5-48fd-abd7-abafbeb56c6e",
   "metadata": {},
   "source": [
    "This guide is a self-administered test of basic data functions and conventions in order to be able to use our results dataset accurately. The code below will walk you through a minimum analysis from a one of our public datasets. After each numbered question below, the code and correct results are provided for you to compare. **We strongly recommend that you write your own code in a separate editor and run the same exact analysis in paralell.** Completion of that code and results, in comparison to the results below, will constituent sufficient data proficiency to become a regular user of the data we produce.<br>\n",
    "\n",
    "### Training Materials\n",
    "Please review the [codebook](https://github.com/opioiddatalab/drugchecking/blob/main/datasets/unc_druchecking_codebook.txt) and [technical details](https://github.com/opioiddatalab/drugchecking/blob/main/datasets/technical_details.md) before starting this exercise. [This tutorial](https://www.dataquest.io/blog/jupyter-notebook-tutorial/) explains Jupyter notebooks if you've never used them before, but you can also copy the code into a text-based editor and run it from there."
   ]
  },
  {
   "cell_type": "markdown",
   "id": "af87d531-91b0-4a99-b4ef-6bb5dda78c89",
   "metadata": {},
   "source": [
    "---"
   ]
  },
  {
   "cell_type": "markdown",
   "id": "cde36253-e141-454e-8f5d-946bc3003463",
   "metadata": {},
   "source": [
    "### Operating Environment"
   ]
  },
  {
   "cell_type": "markdown",
   "id": "fe3b46b8-41f1-4cb2-a20d-6177c9b4fa80",
   "metadata": {},
   "source": [
    "Making it clear which versions of software we are using for posterity. Not part of the exercise."
   ]
  },
  {
   "cell_type": "code",
   "execution_count": 1,
   "id": "5cf452c8-479f-426f-9d4d-a885f479659f",
   "metadata": {},
   "outputs": [
    {
     "name": "stdout",
     "output_type": "stream",
     "text": [
      "\n",
      "Notebook generated at 17:10:59 ET on 8 Oct 2024\n",
      "\n",
      "Running Stata MP:\n",
      "\n",
      "version 17.0\n",
      "\n",
      "On JupyterLab Version 4.2.5\n"
     ]
    }
   ],
   "source": [
    "display \"Notebook generated at $S_TIME ET on$S_DATE\"\n",
    "display \"Running Stata MP:\"\n",
    "version\n",
    "display \"On JupyterLab Version 4.2.5\""
   ]
  },
  {
   "cell_type": "markdown",
   "id": "0710beb6-239f-40ae-9dd6-e3aabdc1386a",
   "metadata": {},
   "source": [
    "---"
   ]
  },
  {
   "cell_type": "markdown",
   "id": "4258470f-0ddb-4c17-8eb3-f40c786bbbbd",
   "metadata": {},
   "source": [
    "# 1. Load data\n",
    "Results files `analysis_dataset.*` and `lab_detail.*` are provided in the following file formats:\n",
    "+ Stata (v14 or later) - `*.dta`\n",
    "+ Excel (XML) - `*.xlsx`\n",
    "+ SAS (transport v8) - `*.v8xpt`\n",
    "+ CSV (comma-separated with quote enclosure for strings) - `*.csv`\n",
    "\n",
    "<br>Demo datasets used in this exercise can be [downloaded from our GitHub](https://github.com/opioiddatalab/drugchecking/tree/main/datasets) in the format of your choice. Below we will call them directly, using the \"Raw\" version within the GitHub interface.<br>\n",
    "\n",
    "We will load `analysis_dataset.dta` into a frame called `card`. And `lab_detail.dta` will go into a frame called `lab`."
   ]
  },
  {
   "cell_type": "code",
   "execution_count": 2,
   "id": "018bb4a4-1cad-4055-8806-3a0046f6f982",
   "metadata": {},
   "outputs": [
    {
     "name": "stdout",
     "output_type": "stream",
     "text": [
      "\n",
      "\n",
      "\n",
      "\n",
      "\n",
      "\n",
      "LAB data file variables:\n",
      "\n",
      "sampleid      lab_num_su~y  lab_co~e_any  lab_btmps     lab_nitaze~y\n",
      "substance     lab_num_su~s  lab_caffeine  chemdict      lab_meth_i~y\n",
      "pubchemcid    confirmatory  lab_gabape~n  lab_opioid    lab_mdma_i~y\n",
      "cas           lab_fentanyl  lab_levami~y  lab_opioid~y  lab_c~es_any\n",
      "unii          lab_fe~l_any  lab_mdma      lab_synthe~d  lab_common~y\n",
      "abundance     lab_xylazine  lab_tramadol  lab_synthe~y  lab_heroin~y\n",
      "method        lab_xylazi~y  lab_carfen~l  lab_potent~e  lab_cannab~y\n",
      "date_compl~e  lab_xylaz~ce  lab_carfen~y  lab_potent~y  lab_fe~s_any\n",
      "primary       lab_meth      lab_ketami~y  lab_benzod~e  lab_pf_fen~y\n",
      "trace         lab_meth_any  lab_ketamine  lab_benzod~y  lab_substi~y\n",
      "lab_null      lab_cocaine   lab_btmps_~y  lab_nitazene\n",
      "\n",
      "\n",
      "\n",
      "\n",
      "CARD data file variables:\n",
      "\n",
      "sampleid      bright_color  overdose      lab_gabape~n  lab_mdma_i~y\n",
      "program       texture       od            lab_levami~y  lab_c~es_any\n",
      "location      tar           overdose_n~s  lab_mdma      lab_common~y\n",
      "county        pill          fatal_od      lab_tramadol  lab_heroin~y\n",
      "state         powder        confirmatory  lab_carfen~l  lab_cannab~y\n",
      "full_state    plant         date_compl~e  lab_carfen~y  lab_fe~s_any\n",
      "date_collect  crystals      primary       lab_ketami~y  lab_pf_fen~y\n",
      "sampletype    lustre        trace         lab_ketamine  lab_substi~y\n",
      "collection    sensations    lab_null      lab_btmps_~y  program_co~y\n",
      "consumed      sen_strength  lab_num_su~y  lab_btmps     lat_program\n",
      "expectedsu~e  sen_weird     lab_num_su~s  lab_opioid    lon_program\n",
      "expect_opi~d  sen_hall      lab_fentanyl  lab_opioid~y  lat\n",
      "expect_fen~l  sen_up        lab_fe~l_any  lab_synthe~d  lon\n",
      "expect_xyl~e  sen_down      lab_xylazine  lab_synthe~y  state_county\n",
      "expect_sti~t  sen_nice      lab_xylazi~y  lab_potent~e  statefips\n",
      "expect_benzo  sen_long      lab_xylaz~ce  lab_potent~y  countyfips_3\n",
      "expect_meth   sen_burn      lab_meth      lab_benzod~e  countyfips\n",
      "expect_coc~e  sen_skin      lab_meth_any  lab_benzod~y\n",
      "expect_can~s  sen_seizure   lab_cocaine   lab_nitazene\n",
      "expect_hall   texture_no~s  lab_co~e_any  lab_nitaze~y\n",
      "color         sensation_~s  lab_caffeine  lab_meth_i~y\n"
     ]
    }
   ],
   "source": [
    "// Reset environment\n",
    "clear all\n",
    "frames reset\n",
    "\n",
    "// Load lab dataframe\n",
    "frame create lab\n",
    "frame change lab\n",
    "use https://github.com/opioiddatalab/drugchecking/raw/refs/heads/main/datasets/lab_detail.dta\n",
    "display \"LAB data file variables:\"\n",
    "describe, simple\n",
    "\n",
    "// Load card dataframe\n",
    "frame create card\n",
    "frame change card\n",
    "use https://github.com/opioiddatalab/drugchecking/raw/refs/heads/main/datasets/analysis_dataset.dta\n",
    "display \"CARD data file variables:\"\n",
    "describe, simple"
   ]
  },
  {
   "cell_type": "markdown",
   "id": "c60e1470-d54f-4854-be6c-8ae107965394",
   "metadata": {},
   "source": [
    "Variables may have evolved since this was run, but the first ones should be the same and the general pattern of `lab_`, `expect_`, `sen_`, etc. should hold. At this point we suggest opening up a grid-style variable table/explorer and getting to know the variable formats using the [codebook](https://github.com/opioiddatalab/drugchecking/blob/main/datasets/unc_druchecking_codebook.txt)."
   ]
  },
  {
   "cell_type": "markdown",
   "id": "0750ce27-4b1e-4586-bf57-72f93b16839a",
   "metadata": {},
   "source": [
    "---"
   ]
  },
  {
   "cell_type": "markdown",
   "id": "1a510c1d-7e49-441a-a8cf-5c9ffcf2d93b",
   "metadata": {},
   "source": [
    "# 2. How many unique samples? "
   ]
  },
  {
   "cell_type": "code",
   "execution_count": 3,
   "id": "cc28a2eb-1ffb-4c82-b793-465396a731f3",
   "metadata": {},
   "outputs": [
    {
     "name": "stdout",
     "output_type": "stream",
     "text": [
      "\n",
      "Unique samples in CARD:\n",
      "\n",
      "\n",
      "          |        Observations\n",
      "          |      total   distinct\n",
      "----------+----------------------\n",
      " sampleid |         20         20\n"
     ]
    }
   ],
   "source": [
    "display \"Unique samples in CARD:\"\n",
    "distinct sampleid"
   ]
  },
  {
   "cell_type": "markdown",
   "id": "af3e6f38-46ad-44e2-b65c-c5c356a5958d",
   "metadata": {},
   "source": [
    "There are 20 rows and 20 unique `sampleid` in `CARD`. One row per sample.<br>\n",
    "(If you don't have [-distinct-](https://www.stata.com/statalist/archive/2012-03/msg00893.html) you can SSC install.)<br>\n",
    "<br>\n",
    "Now, let's repeat this for `LAB`."
   ]
  },
  {
   "cell_type": "code",
   "execution_count": 4,
   "id": "7fae39b6-bee4-41fc-812a-b2c1c9261582",
   "metadata": {},
   "outputs": [
    {
     "name": "stdout",
     "output_type": "stream",
     "text": [
      "\n",
      "\n",
      "Unique samples in LAB:\n",
      "\n",
      "\n",
      "          |        Observations\n",
      "          |      total   distinct\n",
      "----------+----------------------\n",
      " sampleid |        115         20\n"
     ]
    }
   ],
   "source": [
    "frame change lab\n",
    "display \"Unique samples in LAB:\"\n",
    "distinct sampleid"
   ]
  },
  {
   "cell_type": "markdown",
   "id": "8d69d4ff-d265-40ae-9a8b-7982a415627e",
   "metadata": {},
   "source": [
    "So here we see there are 115 rows for 20 unique samples. Each row in LAB is a separate substance identified, so multiple rows per sample unless only one substance was detected in a given sample.\n",
    "\n",
    "---"
   ]
  },
  {
   "cell_type": "markdown",
   "id": "fd8937c3-69a4-4761-b2d0-a128104c82ce",
   "metadata": {},
   "source": [
    "# 3. How many and which substances detected?\n",
    "Staying in `LAB` we run the same command on column `substance`."
   ]
  },
  {
   "cell_type": "code",
   "execution_count": 5,
   "id": "17de896f-ec79-40ab-b5a1-829ab3d60214",
   "metadata": {},
   "outputs": [
    {
     "name": "stdout",
     "output_type": "stream",
     "text": [
      "\n",
      "Unique substances detected:\n",
      "\n",
      "\n",
      "           |        Observations\n",
      "           |      total   distinct\n",
      "-----------+----------------------\n",
      " substance |        115         47\n"
     ]
    }
   ],
   "source": [
    "display \"Unique substances detected:\"\n",
    "distinct substance"
   ]
  },
  {
   "cell_type": "markdown",
   "id": "c3ddeeda-df15-4115-adef-eaa32e0c3365",
   "metadata": {},
   "source": [
    "So among the 20 samples there were 47 unqiue substances detected. Let's make a table of them."
   ]
  },
  {
   "cell_type": "code",
   "execution_count": 6,
   "id": "31cb4341-fa76-4e27-84b7-9f5f21ec0329",
   "metadata": {},
   "outputs": [
    {
     "name": "stdout",
     "output_type": "stream",
     "text": [
      "\n",
      "   Confirmed substance detected in lab. |\n",
      "            Standardized chemical name. |      Freq.     Percent        Cum.\n",
      "----------------------------------------+-----------------------------------\n",
      "                               fentanyl |         11        9.57        9.57\n",
      "                                 4-ANPP |          9        7.83       17.39\n",
      "                        methamphetamine |          7        6.09       23.48\n",
      "                               xylazine |          5        4.35       27.83\n",
      "                           1,3-Diacetin |          4        3.48       31.30\n",
      "                                cocaine |          4        3.48       34.78\n",
      "                                 heroin |          4        3.48       38.26\n",
      "                       p-fluorofentanyl |          4        3.48       41.74\n",
      "                       phenethyl 4-ANPP |          4        3.48       45.22\n",
      "                          acetylcodeine |          3        2.61       47.83\n",
      "                               caffeine |          3        2.61       50.43\n",
      "          despropionyl p-fluorofentanyl |          3        2.61       53.04\n",
      "dimethyl sulfone (methylsulfonylmetha.. |          3        2.61       55.65\n",
      "                           ethyl-4-ANPP |          3        2.61       58.26\n",
      "                    non-specific sugars |          3        2.61       60.87\n",
      "                               tramadol |          3        2.61       63.48\n",
      "                               3,4-MDMA |          2        1.74       65.22\n",
      "           6-monoacetylmorphine (6-MAM) |          2        1.74       66.96\n",
      "                    N-phenylpropanamide |          2        1.74       68.70\n",
      "                          acetaminophen |          2        1.74       70.43\n",
      "                        diphenhydramine |          2        1.74       72.17\n",
      "                             levamisole |          2        1.74       73.91\n",
      "                methyl ecgonidine (MED) |          2        1.74       75.65\n",
      "      no compounds of interest detected |          2        1.74       77.39\n",
      "              p-fluoro phenethyl 4-ANPP |          2        1.74       79.13\n",
      "                                quinine |          2        1.74       80.87\n",
      "                           tropacocaine |          2        1.74       82.61\n",
      "   1-phenethyl-4-propionyloxypiperidine |          1        0.87       83.48\n",
      "3,4-methylenedioxy-N-benzylcathinone .. |          1        0.87       84.35\n",
      "              N-piperidinyl etonitazene |          1        0.87       85.22\n",
      "                   benzoylecgonine (BZ) |          1        0.87       86.09\n",
      "             ecgonine methylester (EME) |          1        0.87       86.96\n",
      "                               eutylone |          1        0.87       87.83\n",
      "                             gabapentin |          1        0.87       88.70\n",
      "                               inositol |          1        0.87       89.57\n",
      "                              lidocaine |          1        0.87       90.43\n",
      "                                menthol |          1        0.87       91.30\n",
      "                              methadone |          1        0.87       92.17\n",
      "                           metonitazene |          1        0.87       93.04\n",
      "                               nicotine |          1        0.87       93.91\n",
      "             non-specific organic acids |          1        0.87       94.78\n",
      "                             norcocaine |          1        0.87       95.65\n",
      "                             phenacetin |          1        0.87       96.52\n",
      "                      phenethyl bromide |          1        0.87       97.39\n",
      "                     phenethyl chloride |          1        0.87       98.26\n",
      "                               procaine |          1        0.87       99.13\n",
      "                                   urea |          1        0.87      100.00\n",
      "----------------------------------------+-----------------------------------\n",
      "                                  Total |        115      100.00\n"
     ]
    }
   ],
   "source": [
    "tabulate substance, sort"
   ]
  },
  {
   "cell_type": "markdown",
   "id": "77bf2bf6-5836-46df-8dd0-069a4f4c5bce",
   "metadata": {},
   "source": [
    "---\n",
    "\n",
    "# 4. Where and how were samples collected?\n",
    "Let's switch to `CARD` because this is likely where you'll be doing most epi analyses. We want to know more about the 20 samples, where they came from, how they were collected."
   ]
  },
  {
   "cell_type": "code",
   "execution_count": 7,
   "id": "062191fc-8e42-404a-98e8-31fe7bc037c9",
   "metadata": {},
   "outputs": [
    {
     "name": "stdout",
     "output_type": "stream",
     "text": [
      "\n",
      "\n",
      "\n",
      " State sample |\n",
      "    collected |      Freq.     Percent        Cum.\n",
      "--------------+-----------------------------------\n",
      "           NC |          8       40.00       40.00\n",
      "           NY |          4       20.00       60.00\n",
      "           OR |          2       10.00       70.00\n",
      "           TN |          2       10.00       80.00\n",
      "           MI |          1        5.00       85.00\n",
      "           MT |          1        5.00       90.00\n",
      "           NM |          1        5.00       95.00\n",
      "           TX |          1        5.00      100.00\n",
      "--------------+-----------------------------------\n",
      "        Total |         20      100.00\n",
      "\n",
      "\n",
      "       |        Observations\n",
      "       |      total   distinct\n",
      "-------+----------------------\n",
      " state |         20          8\n"
     ]
    }
   ],
   "source": [
    "frame change card\n",
    "tabulate state, sort missing\n",
    "distinct state"
   ]
  },
  {
   "cell_type": "markdown",
   "id": "bca9a6c0-6c6f-4914-b92c-d8ade7c330f4",
   "metadata": {},
   "source": [
    "Now we know the 20 samples came from 8 different states. Of the n=8 samples from North Carolina, let's find out which counties they originated in."
   ]
  },
  {
   "cell_type": "code",
   "execution_count": 8,
   "id": "0081061f-03ab-4a10-a78d-ea9cbe9fbdf0",
   "metadata": {},
   "outputs": [
    {
     "name": "stdout",
     "output_type": "stream",
     "text": [
      "\n",
      "          County where sample collected |      Freq.     Percent        Cum.\n",
      "----------------------------------------+-----------------------------------\n",
      "                        Guilford County |          2       25.00       25.00\n",
      "                        Buncombe County |          1       12.50       37.50\n",
      "                         Catawba County |          1       12.50       50.00\n",
      "                          Gaston County |          1       12.50       62.50\n",
      "                            Pitt County |          1       12.50       75.00\n",
      "                        Randolph County |          1       12.50       87.50\n",
      "                            Wake County |          1       12.50      100.00\n",
      "----------------------------------------+-----------------------------------\n",
      "                                  Total |          8      100.00\n"
     ]
    }
   ],
   "source": [
    "tabulate county if state==\"NC\", sort missing"
   ]
  },
  {
   "cell_type": "markdown",
   "id": "0bcc40b8-3e53-4140-b965-4ee7a8037389",
   "metadata": {},
   "source": [
    "If you're interested in making maps you'll find the county 5-digit FIPS codes handy. You don't have to do this next code block as part of the exercise, but you can see the variables below. Please see the codebook documentation on how we assign county FIPS codes using an API. It can make mistakes, so if you see a wayward county, please let us know."
   ]
  },
  {
   "cell_type": "code",
   "execution_count": 9,
   "id": "58aac827-f44b-43bd-9c98-63dfbf50f23d",
   "metadata": {},
   "outputs": [
    {
     "name": "stdout",
     "output_type": "stream",
     "text": [
      "\n",
      "     +-------------------------------------+\n",
      "     |           county   state   county~s |\n",
      "     |-------------------------------------|\n",
      "  1. |  Kalkaska County      MI      26079 |\n",
      "  2. |  Missoula County      MT      30063 |\n",
      "  3. |  Buncombe County      NC      37021 |\n",
      "  4. |   Catawba County      NC      37035 |\n",
      "  5. |    Gaston County      NC      37071 |\n",
      "     |-------------------------------------|\n",
      "  6. |  Guilford County      NC      37081 |\n",
      "  7. |  Guilford County      NC      37081 |\n",
      "  8. |      Pitt County      NC      37147 |\n",
      "  9. |  Randolph County      NC      37151 |\n",
      " 10. |      Wake County      NC      37183 |\n",
      "     |-------------------------------------|\n",
      " 11. |  Santa Fe County      NM      35049 |\n",
      " 12. |     Kings County      NY      36047 |\n",
      " 13. |     Kings County      NY      36047 |\n",
      " 14. |  Saratoga County      NY      36091 |\n",
      " 15. |   Suffolk County      NY      36103 |\n",
      "     |-------------------------------------|\n",
      " 16. | Multnomah County      OR      41051 |\n",
      " 17. | Multnomah County      OR      41051 |\n",
      " 18. |     Cocke County      TN      47029 |\n",
      " 19. |   Madison County      TN      47113 |\n",
      " 20. |  Eastland County      TX      48133 |\n",
      "     +-------------------------------------+\n"
     ]
    }
   ],
   "source": [
    "list county state countyfips"
   ]
  },
  {
   "cell_type": "code",
   "execution_count": 32,
   "id": "df8d26b4-df3d-4399-93ba-45cd1fa05702",
   "metadata": {},
   "outputs": [
    {
     "name": "stdout",
     "output_type": "stream",
     "text": [
      "\n",
      "\n",
      "file /Users/nabarun/.stata_kernel_cache/graph1.svg saved as SVG format\n",
      "file /Users/nabarun/.stata_kernel_cache/graph1.pdf saved as PDF format\n",
      "\n",
      "variable state not found\n",
      "\n"
     ]
    }
   ],
   "source": [
    "graph display\n",
    "graph hbar lab_num_substances_any, over(state)"
   ]
  },
  {
   "cell_type": "markdown",
   "id": "4aec8251-2ab1-42fe-a04d-22af9c773a48",
   "metadata": {},
   "source": [
    "---\n",
    "\n",
    "Next let's find out the sample collection methods."
   ]
  },
  {
   "cell_type": "code",
   "execution_count": 11,
   "id": "b93f7e44-fe7e-433b-b15c-c3801baa7f3b",
   "metadata": {},
   "outputs": [
    {
     "name": "stdout",
     "output_type": "stream",
     "text": [
      "\n",
      " Verbatim sample |\n",
      "    type on card |      Freq.     Percent        Cum.\n",
      "-----------------+-----------------------------------\n",
      "         unknown |          5       25.00       25.00\n",
      "          cotton |          4       20.00       45.00\n",
      "            swab |          4       20.00       65.00\n",
      "         spatula |          3       15.00       80.00\n",
      "            pill |          2       10.00       90.00\n",
      "   swab; spatula |          1        5.00       95.00\n",
      "         syringe |          1        5.00      100.00\n",
      "-----------------+-----------------------------------\n",
      "           Total |         20      100.00\n"
     ]
    }
   ],
   "source": [
    "tabulate sampletype, sort missing"
   ]
  },
  {
   "cell_type": "markdown",
   "id": "899929d7-644e-41b1-b443-7181954953b4",
   "metadata": {},
   "source": [
    "We see the types of collection methods used in these samples. Since the verbatim `sampletype` pulls from whatever was circled on the card, we may want to consolidate all the possible combinations of multiple collection methods. So, we have created a variable that makes this easier to report called `collection`. Throughout the codebook, you'l find similar re-coded variables next to verbatim card data."
   ]
  },
  {
   "cell_type": "markdown",
   "id": "e0700e30-0607-4390-847a-f206ca579f20",
   "metadata": {},
   "source": [
    "---\n",
    "\n",
    "# 5. What sensations and ODs were reported?\n",
    "\n",
    "First to make this more interesting, let's figure out how many samples contained fentanyl. The easiest way in `CARD` is to use a pre-made variable called `lab_fentanyl`."
   ]
  },
  {
   "cell_type": "code",
   "execution_count": 12,
   "id": "d5b23a0b-a744-4cce-a4c4-d60c5ed30ad4",
   "metadata": {},
   "outputs": [
    {
     "name": "stdout",
     "output_type": "stream",
     "text": [
      "\n",
      "             Sensations circled on card |      Freq.     Percent        Cum.\n",
      "----------------------------------------+-----------------------------------\n",
      "                                 normal |          3       30.00       30.00\n",
      "                                        |          2       20.00       50.00\n",
      "                                  weird |          2       20.00       70.00\n",
      "                   nice; stronger; long |          1       10.00       80.00\n",
      "                               stronger |          1       10.00       90.00\n",
      "              weird; weaker; unpleasant |          1       10.00      100.00\n",
      "----------------------------------------+-----------------------------------\n",
      "                                  Total |         10      100.00\n"
     ]
    }
   ],
   "source": [
    "tabulate sensations if lab_fentanyl==1, sort missing"
   ]
  },
  {
   "cell_type": "markdown",
   "id": "3d519050-162e-4888-a93c-b8b998f34972",
   "metadata": {},
   "source": [
    "Because multiple sensations can be reported and circled on a card, the verbatim `sensations` can get complicated. (Also there is `sensation_notes` to consider.) So we have recoded sensation variables that you'll find in the codebook as variables with the prefix `sen_`. Let's look at `sen_strength` which is a 3-level categorical variable where `-1` is weaker, `0` is normal, and `1` is stronger."
   ]
  },
  {
   "cell_type": "code",
   "execution_count": 13,
   "id": "df8bd699-ccc3-436e-a785-acfac502b18d",
   "metadata": {},
   "outputs": [
    {
     "name": "stdout",
     "output_type": "stream",
     "text": [
      "\n",
      "    Derived |\n",
      "    3-level |\n",
      " flag where |\n",
      " -1 weaker, |\n",
      "0 normal, 1 |\n",
      "   stronger |      Freq.     Percent        Cum.\n",
      "------------+-----------------------------------\n",
      "          . |          4       40.00       40.00\n",
      "          0 |          3       30.00       70.00\n",
      "          1 |          2       20.00       90.00\n",
      "         -1 |          1       10.00      100.00\n",
      "------------+-----------------------------------\n",
      "      Total |         10      100.00\n"
     ]
    }
   ],
   "source": [
    "tabulate sen_strength if lab_fentanyl==1, sort missing nolabel"
   ]
  },
  {
   "cell_type": "markdown",
   "id": "7b39a9b6-65d2-48dd-9a77-a3011f46f089",
   "metadata": {},
   "source": [
    "The Stata datasets provide variable labeling support, which we suppress above with the `nolabel` option. Below is the tidier table with labels."
   ]
  },
  {
   "cell_type": "code",
   "execution_count": 14,
   "id": "ce6e61cd-bcc6-4d1a-a67a-5bcf10b9d304",
   "metadata": {},
   "outputs": [
    {
     "name": "stdout",
     "output_type": "stream",
     "text": [
      "\n",
      "    Derived |\n",
      "    3-level |\n",
      " flag where |\n",
      " -1 weaker, |\n",
      "0 normal, 1 |\n",
      "   stronger |      Freq.     Percent        Cum.\n",
      "------------+-----------------------------------\n",
      "          . |          4       40.00       40.00\n",
      "     normal |          3       30.00       70.00\n",
      "   stronger |          2       20.00       90.00\n",
      "     weaker |          1       10.00      100.00\n",
      "------------+-----------------------------------\n",
      "      Total |         10      100.00\n"
     ]
    }
   ],
   "source": [
    "tabulate sen_strength if lab_fentanyl==1, sort missing"
   ]
  },
  {
   "cell_type": "markdown",
   "id": "0058749f-65bd-4731-8b7d-4b116e6a51f7",
   "metadata": {},
   "source": [
    "You can see the missingness in the original card data also carries through to the recoded variable. The more completely you fill out the card data, the better these data inferences will be! We find this a handy variable to give a quick sense for potency. It could even have application as a signal detection tool if suddenly stronger dope is being reported. \n",
    "\n",
    "---\n",
    "\n",
    "Now to look at overdoses. A similar convention of verabtim (`overdose`) and recoded (`od`) for overdose are available. Code below for all 20 samples."
   ]
  },
  {
   "cell_type": "code",
   "execution_count": 15,
   "id": "b11a7ab6-d3a3-428b-9185-70c41d358522",
   "metadata": {},
   "outputs": [
    {
     "name": "stdout",
     "output_type": "stream",
     "text": [
      "\n",
      "      Invovlement in overdose |      Freq.     Percent        Cum.\n",
      "------------------------------+-----------------------------------\n",
      "         not overdose related |         15       75.00       75.00\n",
      "               involved in OD |          3       15.00       90.00\n",
      "                      unknown |          2       10.00      100.00\n",
      "------------------------------+-----------------------------------\n",
      "                        Total |         20      100.00\n"
     ]
    }
   ],
   "source": [
    "tabulate overdose, missing sort"
   ]
  },
  {
   "cell_type": "code",
   "execution_count": 16,
   "id": "6dae7850-60fd-49de-b8f6-d756c469ae5d",
   "metadata": {},
   "outputs": [
    {
     "name": "stdout",
     "output_type": "stream",
     "text": [
      "\n",
      "    Recoded |\n",
      "   overdose |\n",
      "involvement |\n",
      "        for |\n",
      "  reporting |      Freq.     Percent        Cum.\n",
      "------------+-----------------------------------\n",
      "          0 |         15       75.00       75.00\n",
      "          1 |          3       15.00       90.00\n",
      "          . |          2       10.00      100.00\n",
      "------------+-----------------------------------\n",
      "      Total |         20      100.00\n"
     ]
    }
   ],
   "source": [
    "tabulate od, missing nolabel sort"
   ]
  },
  {
   "cell_type": "markdown",
   "id": "38687f56-e7fa-4329-8388-89b1d2a57e9a",
   "metadata": {},
   "source": [
    "The `od` variable is therefore set up to be ready for the outcome/dependent variable in regression models if you are trying to find correlations with overdose risk. Here's a simple binomial regression to get a prevelance ratio (we don't use odds ratios and logistic regression because of assumption violations in this dataset and interpretability). This is an optional exercise; skip it if you're not familiar with these regression model forms."
   ]
  },
  {
   "cell_type": "code",
   "execution_count": 17,
   "id": "fe99841f-6b8c-456c-855e-35edba1dcecc",
   "metadata": {},
   "outputs": [
    {
     "name": "stdout",
     "output_type": "stream",
     "text": [
      "\n",
      "Iteration 1:   deviance =  34.02278\n",
      "Iteration 2:   deviance =  24.77439\n",
      "Iteration 3:   deviance =  24.54743\n",
      "Iteration 4:   deviance =  24.54678\n",
      "Iteration 5:   deviance =  24.54678\n",
      "\n",
      "Generalized linear models                         Number of obs   =         18\n",
      "Optimization     : MQL Fisher scoring             Residual df     =         16\n",
      "                   (IRLS EIM)                     Scale parameter =          1\n",
      "Deviance         =  24.54678429                   (1/df) Deviance =   1.534174\n",
      "Pearson          =  17.99995675                   (1/df) Pearson  =   1.124997\n",
      "\n",
      "Variance function: V(u) = u*(1-u)                 [Bernoulli]\n",
      "Link function    : g(u) = ln(u)                   [Log]\n",
      "\n",
      "                                                  BIC             =  -21.69916\n",
      "\n",
      "------------------------------------------------------------------------------\n",
      "             |                 EIM\n",
      "lab_fentanyl | Risk ratio   std. err.      z    P>|z|     [95% conf. interval]\n",
      "-------------+----------------------------------------------------------------\n",
      "          od |   1.428571   .7040023     0.72   0.469     .5437866    3.752973\n",
      "       _cons |   .4666667   .1288093    -2.76   0.006     .2716803    .8015958\n",
      "------------------------------------------------------------------------------\n",
      "Note: _cons estimates baseline risk.\n"
     ]
    }
   ],
   "source": [
    "binreg lab_fentanyl od, rr"
   ]
  },
  {
   "cell_type": "code",
   "execution_count": null,
   "id": "de75362b-7954-475e-9737-508af4c0e956",
   "metadata": {},
   "outputs": [],
   "source": []
  },
  {
   "cell_type": "markdown",
   "id": "f8266e26-a812-4d07-9078-184b9a2f630b",
   "metadata": {},
   "source": [
    "Or if you prefer Poisson models, here's the same result."
   ]
  },
  {
   "cell_type": "code",
   "execution_count": 18,
   "id": "a72ab0d7-4eeb-4f3d-a508-a6e7f6b8439e",
   "metadata": {},
   "outputs": [
    {
     "name": "stdout",
     "output_type": "stream",
     "text": [
      "\n",
      "Iteration 0:   log pseudolikelihood = -15.145911  \n",
      "Iteration 1:   log pseudolikelihood = -15.145911  \n",
      "\n",
      "Poisson regression                                      Number of obs =     18\n",
      "                                                        Wald chi2(1)  =   0.49\n",
      "                                                        Prob > chi2   = 0.4818\n",
      "Log pseudolikelihood = -15.145911                       Pseudo R2     = 0.0061\n",
      "\n",
      "------------------------------------------------------------------------------\n",
      "             |               Robust\n",
      "lab_fentanyl |        IRR   std. err.      z    P>|z|     [95% conf. interval]\n",
      "-------------+----------------------------------------------------------------\n",
      "          od |   1.428572    .724418     0.70   0.482     .5287667    3.859579\n",
      "       _cons |   .4666667   .1325467    -2.68   0.007     .2674491    .8142774\n",
      "------------------------------------------------------------------------------\n",
      "Note: _cons estimates baseline incidence rate.\n"
     ]
    }
   ],
   "source": [
    "poisson lab_fentanyl od , irr vce(robust)"
   ]
  },
  {
   "cell_type": "markdown",
   "id": "ced7a957-570b-4067-acf6-c483be974a25",
   "metadata": {},
   "source": [
    "**Interpretation:** So an IRR of 1.43 translates to samples containing fentanyl were 43% more likely to be involved in a reported overdose, compared to samples that didn't contain fentanyl."
   ]
  },
  {
   "cell_type": "markdown",
   "id": "824e6d96-5616-4e4b-a3e6-a9294a3649c4",
   "metadata": {},
   "source": [
    "---\n",
    "\n",
    "# 6. How many blue pills?\n",
    "\n",
    "Say we want to get the sample IDs for all the blue pills. First we can make a variable called `blue` and then combine it with the pre-existing `pill` variable."
   ]
  },
  {
   "cell_type": "code",
   "execution_count": 19,
   "id": "af7dfd11-819a-45ac-8a79-24e5489a4f85",
   "metadata": {},
   "outputs": [
    {
     "name": "stdout",
     "output_type": "stream",
     "text": [
      "\n",
      "\n",
      "                  Color circled on card |      Freq.     Percent        Cum.\n",
      "----------------------------------------+-----------------------------------\n",
      "                                        |          1        5.00        5.00\n",
      "                                  black |          1        5.00       10.00\n",
      "                                   blue |          2       10.00       20.00\n",
      "                                  brown |          2       10.00       30.00\n",
      "                                  clear |          2       10.00       40.00\n",
      "                           clear; white |          1        5.00       45.00\n",
      "                            gray; brown |          1        5.00       50.00\n",
      "                            light brown |          1        5.00       55.00\n",
      "                             light gray |          1        5.00       60.00\n",
      "                                    tan |          1        5.00       65.00\n",
      "                                unknown |          1        5.00       70.00\n",
      "                                  white |          6       30.00      100.00\n",
      "----------------------------------------+-----------------------------------\n",
      "                                  Total |         20      100.00\n",
      "\n",
      "\n",
      "(1 real change made, 1 to missing)\n",
      "\n",
      "\n",
      "\n",
      "     +--------------------------------+\n",
      "     | sampleid          color   blue |\n",
      "     |--------------------------------|\n",
      "  1. |      728          black      0 |\n",
      "  2. |      901   clear; white      0 |\n",
      "  3. |      196                     . |\n",
      "  4. |      473          clear      0 |\n",
      "  5. |      368            tan      0 |\n",
      "     |--------------------------------|\n",
      "  6. |      280           blue      1 |\n",
      "  7. |      424          white      0 |\n",
      "  8. |      437        unknown      0 |\n",
      "  9. |      701          white      0 |\n",
      " 10. |      101          brown      0 |\n",
      "     |--------------------------------|\n",
      " 11. |      193          white      0 |\n",
      " 12. |      299     light gray      0 |\n",
      " 13. |      253          white      0 |\n",
      " 14. |      644          white      0 |\n",
      " 15. |      340    gray; brown      0 |\n",
      "     |--------------------------------|\n",
      " 16. |      836           blue      1 |\n",
      " 17. |      555          clear      0 |\n",
      " 18. |      408          brown      0 |\n",
      " 19. |      256          white      0 |\n",
      " 20. |      249    light brown      0 |\n",
      "     +--------------------------------+\n"
     ]
    }
   ],
   "source": [
    "// Verbatim colors\n",
    "tabulate color, missing\n",
    "\n",
    "// Generate 'blue'\n",
    "** regular expressions search\n",
    "gen blue = regexm(color, \"blue\")\n",
    "** account for missing card data\n",
    "replace blue=. if color==\"\"\n",
    "** reorder for human readability\n",
    "order blue, a(color)\n",
    "** see results\n",
    "list sampleid color blue"
   ]
  },
  {
   "cell_type": "markdown",
   "id": "4ec07059-6ba2-47e0-8bea-3977f5fbf730",
   "metadata": {},
   "source": [
    "Coding looks good. There are two samples colored blue. Let's see if they were pills."
   ]
  },
  {
   "cell_type": "code",
   "execution_count": 20,
   "id": "22dc97d8-8fbd-4aff-8769-4f2dbf356269",
   "metadata": {},
   "outputs": [
    {
     "name": "stdout",
     "output_type": "stream",
     "text": [
      "\n",
      "           | Composite flag (1) if\n",
      "           |    indication that\n",
      "           |   sample was from a\n",
      "           |         pill\n",
      "      blue |         1          . |     Total\n",
      "-----------+----------------------+----------\n",
      "         0 |         0         17 |        17 \n",
      "         1 |         2          0 |         2 \n",
      "         . |         0          1 |         1 \n",
      "-----------+----------------------+----------\n",
      "     Total |         2         18 |        20 \n"
     ]
    }
   ],
   "source": [
    "tabulate blue pill, missing"
   ]
  },
  {
   "cell_type": "markdown",
   "id": "179c6ddc-8f6d-49cb-8bcd-cb635317c1af",
   "metadata": {},
   "source": [
    "Not surprisingly the two blues were pills. Let's make a `blue_pill` variable."
   ]
  },
  {
   "cell_type": "code",
   "execution_count": 21,
   "id": "e28e0465-4c40-465f-81c9-dfbb17faa23b",
   "metadata": {},
   "outputs": [
    {
     "name": "stdout",
     "output_type": "stream",
     "text": [
      "\n",
      "\n",
      "(2 real changes made)\n",
      "\n",
      "(1 real change made, 1 to missing)\n",
      "\n",
      "\n",
      "     +---------------------------------------------------------+\n",
      "     | sampleid   blue_pill   color   pill   expectedsubstance |\n",
      "     |---------------------------------------------------------|\n",
      "  6. |      280           1    blue      1                MDMA |\n",
      " 16. |      836           1    blue      1            fentanyl |\n",
      "     +---------------------------------------------------------+\n",
      "\n",
      "\n",
      "  blue_pill |      Freq.     Percent        Cum.\n",
      "------------+-----------------------------------\n",
      "          0 |         17       85.00       85.00\n",
      "          1 |          2       10.00       95.00\n",
      "          . |          1        5.00      100.00\n",
      "------------+-----------------------------------\n",
      "      Total |         20      100.00\n"
     ]
    }
   ],
   "source": [
    "gen blue_pill = 0\n",
    "replace blue_pill = 1 if blue==1 & pill==1\n",
    "replace blue_pill = . if color==\"\" // deal with missing color on card\n",
    "list sampleid blue_pill color pill expectedsubstance if blue_pill==1, abbreviate(20) \n",
    "tabulate blue_pill, missing"
   ]
  },
  {
   "cell_type": "markdown",
   "id": "9df95684-654d-4c69-b181-beca8b368600",
   "metadata": {},
   "source": [
    "By bringing in the `expectedsubstance` we can see that of the two samples, one was a fake pill and and one an XTC tablet. Data from 2023 forward also have a specific M30 category for expected substance."
   ]
  },
  {
   "cell_type": "code",
   "execution_count": 22,
   "id": "14d3f12e-9bc3-4400-ab4f-fcaa3c6e7e14",
   "metadata": {},
   "outputs": [],
   "source": [
    "drop blue_pill"
   ]
  },
  {
   "cell_type": "markdown",
   "id": "9a35ba36-32f4-4641-b254-f8873dbbd1cf",
   "metadata": {},
   "source": [
    "---\n",
    "\n",
    "# 7. How many samples with acetylcodeine?\n",
    "\n",
    "Say we don't have a pre-made `lab_` variable for a substance in `CARD` dataframe. We've seen how useful `CARD` is for epidemiology analysis because it is one-row-per-sample. Let's make one for acetylcodeine, a common weak opioid found with poppy-derived heroin. There are other ways to do make this variable, but this should get you started.<br>\n",
    "<br>\n",
    "But first, review the technical details at the top to understand the `_any` convention. In brief, the prefix `lab_` in a variable designates that the substance was positively identified in the lab using GCMS only in *primary* abundance. The `_any` suffix includes *both primary and trace* abundance.<br>\n",
    "<br>\n",
    "We use the term *trace* to mean small levels of substance detected that would not normally be reported out in a forensic chemistry report for a crime lab. However, for public health purposes, trace substances can be responsible for unexpected side effects and reactions, or may help uncover changes to synthesis methods, or may explain test strip results, etc. We define *trace* as less than 5% peak height area of the most abundant molecule on the GCMS chromatogram. It is ***not*** interpreted as <5% weight/volume. In the variable `abundance` the value \"trace\" is positively defined; if `abundance` is blank then the abundance is *primary*. <br>"
   ]
  },
  {
   "cell_type": "code",
   "execution_count": 23,
   "id": "db84fd54-0990-4faa-ae5c-19f18dc480ea",
   "metadata": {},
   "outputs": [
    {
     "name": "stdout",
     "output_type": "stream",
     "text": [
      "\n",
      "\n",
      "\n",
      "\n",
      "\n",
      "Acetylcodei |\n",
      "ne detected |\n",
      " in primary |\n",
      "   or trace |\n",
      "  abundance |      Freq.     Percent        Cum.\n",
      "------------+-----------------------------------\n",
      "          0 |        112       97.39       97.39\n",
      "          1 |          3        2.61      100.00\n",
      "------------+-----------------------------------\n",
      "      Total |        115      100.00\n",
      "\n",
      "\n",
      "(1 real change made)\n",
      "\n",
      "\n",
      "\n",
      "Acetylcodei |\n",
      "ne detected |\n",
      " in PRIMARY |\n",
      "  abundance |\n",
      "       only |      Freq.     Percent        Cum.\n",
      "------------+-----------------------------------\n",
      "          0 |        114       99.13       99.13\n",
      "          1 |          1        0.87      100.00\n",
      "------------+-----------------------------------\n",
      "      Total |        115      100.00\n"
     ]
    }
   ],
   "source": [
    "frame change lab\n",
    "\n",
    "// Create 2 new variables in LAB dataframe using lab_ prefix and _any suffix.\n",
    "\n",
    "// Create variable for trace OR primary abundance with _any suffix\n",
    "gen lab_acetylcodeine_any = regexm(lower(substance),\"acetylcodeine\")\n",
    "la var lab_acetylcodeine_any \"Acetylcodeine detected in primary or trace abundance\"\n",
    "tab lab_acetylcodeine_any, m\n",
    "\n",
    "// Create variable for only PRIMARY abundance without any suffix\n",
    "gen lab_acetylcodeine = 0\n",
    "replace lab_acetylcodeine=1 if regexm(lower(substance),\"acetylcodeine\") & abundance==\"\"\n",
    "la var lab_acetylcodeine \"Acetylcodeine detected in PRIMARY abundance only\"\n",
    "tab lab_acetylcodeine, m"
   ]
  },
  {
   "cell_type": "markdown",
   "id": "0e25d199-986f-4751-9acb-b0412f6c0bed",
   "metadata": {},
   "source": [
    "Now we have 2 new variables in the `LAB` dataframe: `lab_acetylcodeine_any` and `lab_acetylcodeine`. You may now be able to see the logic of having two separate datasets with lab and card data. The `LAB` file allows us to create `lab_` variables as we want and have the chemical logic behind them be reproduceible. For example, if we wanted to create a combined variable for MDA and MDMA we could do that within `LAB` and then pull it into the `CARD` dataframe. For classes of molecules (chemical families) we use the same process, such as for benzos. This way you can always trace back exactly which substance in which abundance is gave rise to any `lab_` variable in `CARD`. **So, always make `lab_` variables only in `LAB` dataframe.**"
   ]
  },
  {
   "cell_type": "code",
   "execution_count": 24,
   "id": "cb03e926-d6a5-4aba-a929-3fc50cd9f917",
   "metadata": {},
   "outputs": [
    {
     "name": "stdout",
     "output_type": "stream",
     "text": [
      "\n",
      "\n",
      "\n",
      "\n",
      "\n",
      "\n",
      "\n",
      "Duplicates in terms of all variables\n",
      "\n",
      "(0 observations are duplicates)\n",
      "\n",
      "(file varadd.dta not found)\n",
      "file varadd.dta saved\n",
      "\n",
      "\n",
      "\n",
      "    Result                      Number of obs\n",
      "    -----------------------------------------\n",
      "    Not matched                             0\n",
      "    Matched                                20  \n",
      "    -----------------------------------------\n",
      "\n",
      "\n",
      "lab_acetylcodeine:\n",
      "\n",
      "\n",
      "Acetylcodei |\n",
      "ne detected |\n",
      " in PRIMARY |\n",
      "  abundance |\n",
      "       only |      Freq.     Percent        Cum.\n",
      "------------+-----------------------------------\n",
      "          0 |         19       95.00       95.00\n",
      "          1 |          1        5.00      100.00\n",
      "------------+-----------------------------------\n",
      "      Total |         20      100.00\n",
      "\n",
      "lab_acetylcodeine_any:\n",
      "\n",
      "\n",
      "Acetylcodei |\n",
      "ne detected |\n",
      " in primary |\n",
      "   or trace |\n",
      "  abundance |      Freq.     Percent        Cum.\n",
      "------------+-----------------------------------\n",
      "          0 |         17       85.00       85.00\n",
      "          1 |          3       15.00      100.00\n",
      "------------+-----------------------------------\n",
      "      Total |         20      100.00\n",
      "\n",
      "\n",
      "Acetylcode |\n",
      "       ine |\n",
      "  detected |     Acetylcodeine\n",
      "in primary |  detected in PRIMARY\n",
      "  or trace |    abundance only\n",
      " abundance |         0          1 |     Total\n",
      "-----------+----------------------+----------\n",
      "         0 |        17          0 |        17 \n",
      "         1 |         2          1 |         3 \n",
      "-----------+----------------------+----------\n",
      "     Total |        19          1 |        20 \n"
     ]
    }
   ],
   "source": [
    "// Take sampleid and 2 new variables into new dataframe called 'varadd'\n",
    "frame put sampleid lab_acetylcodeine lab_acetylcodeine_any, into(varadd)\n",
    "frame change varadd\n",
    "\n",
    "// Since there are multiple rows per sample, and the new lab_ variables are 1/0,\n",
    "// we take the max so that if any substance triggers a '1' value it is\n",
    "// consolidated as '1' at the sample level. A duplicates check is helpful just in case.\n",
    "// Collapse doesn't preseve var labels (annoying!) so add those back in.\n",
    "\n",
    "collapse (max) lab_acetylcodeine lab_acetylcodeine_any, by(sampleid)\n",
    "la var lab_acetylcodeine_any \"Acetylcodeine detected in primary or trace abundance\"\n",
    "la var lab_acetylcodeine \"Acetylcodeine detected in PRIMARY abundance only\"\n",
    "duplicates drop\n",
    "\n",
    "// Save the new variables as a new file and merge it into the CARD dataframe.\n",
    "// Delete the temporary file.\n",
    "// There are also ways to do this with -fralias- in Stata 18 onwards, but this\n",
    "// method below will work with all Stata versions.\n",
    "\n",
    "save varadd, replace \n",
    "frame change card\n",
    "merge 1:1 sampleid using varadd, nogen\n",
    "erase varadd.dta\n",
    "\n",
    "// Check results\n",
    "display \"lab_acetylcodeine:\"\n",
    "tabulate lab_acetylcodeine, missing\n",
    "display \"lab_acetylcodeine_any:\"\n",
    "tabulate lab_acetylcodeine_any, missing\n",
    "\n",
    "tabulate lab_acetylcodeine_any lab_acetylcodeine, missing"
   ]
  },
  {
   "cell_type": "markdown",
   "id": "2339c29c-c9d6-4d78-acb3-6f584a72b51e",
   "metadata": {},
   "source": [
    "So there are 3 samples that `lab_acetylcodeine_any`==1 meaning 3 of the samples have acetylcodeine in primary OR trace abundance. Comparing to `lab_acetylcodeine`==1, we see one sample where acetylcodeine abundance was PRIMARY. Let's check this."
   ]
  },
  {
   "cell_type": "code",
   "execution_count": 25,
   "id": "6f57534f-5d0d-4062-b370-7f11d6dfed56",
   "metadata": {},
   "outputs": [
    {
     "name": "stdout",
     "output_type": "stream",
     "text": [
      "\n",
      "\n",
      "\n",
      "           substance   abundance   lab_acetylcodeine   lab_acetylcodeine_any  \n",
      " 31.   acetylcodeine                               1                       1  \n",
      " 45.   acetylcodeine       trace                   0                       1  \n",
      " 60.   acetylcodeine       trace                   0                       1  \n"
     ]
    }
   ],
   "source": [
    "frame change lab\n",
    "list substance abundance lab_acetylcodeine lab_acetylcodeine_any if lab_acetylcodeine_any==1, notrim abbreviate(30) display"
   ]
  },
  {
   "cell_type": "markdown",
   "id": "5e35d00b-83e1-4354-85c3-35a2adf1b5b8",
   "metadata": {},
   "source": [
    "Yup, it all checks out. 😄"
   ]
  },
  {
   "cell_type": "code",
   "execution_count": null,
   "id": "11e6f487-05cf-4bf7-9dd7-cebd9ba13346",
   "metadata": {},
   "outputs": [],
   "source": []
  },
  {
   "cell_type": "code",
   "execution_count": null,
   "id": "65b560c2-645f-49f4-a75d-80c70d7773f0",
   "metadata": {},
   "outputs": [],
   "source": []
  },
  {
   "cell_type": "markdown",
   "id": "21a8b17a-61e0-4173-8230-876e8ff658e3",
   "metadata": {},
   "source": [
    "---\n",
    "\n",
    "# 8. Abundance and expected\n",
    "So let's see how many samples fentanyl was in primary and trace abundance."
   ]
  },
  {
   "cell_type": "code",
   "execution_count": 26,
   "id": "487166af-0de2-4c3c-8c71-2836d1b3425f",
   "metadata": {},
   "outputs": [
    {
     "name": "stdout",
     "output_type": "stream",
     "text": [
      "\n",
      "Primary only:\n",
      "\n",
      "\n",
      "   fentanyl |\n",
      "detected in |\n",
      "        lab |      Freq.     Percent        Cum.\n",
      "------------+-----------------------------------\n",
      "          0 |        105       91.30       91.30\n",
      "          1 |         10        8.70      100.00\n",
      "------------+-----------------------------------\n",
      "      Total |        115      100.00\n",
      "\n",
      "Primary AND trace abundance:\n",
      "\n",
      "\n",
      "   fentanyl |\n",
      "detected in |\n",
      "        any |\n",
      "  abundance |      Freq.     Percent        Cum.\n",
      "------------+-----------------------------------\n",
      "          0 |        104       90.43       90.43\n",
      "          1 |         11        9.57      100.00\n",
      "------------+-----------------------------------\n",
      "      Total |        115      100.00\n"
     ]
    }
   ],
   "source": [
    "display \"Primary only:\"\n",
    "tabulate lab_fentanyl\n",
    "\n",
    "display \"Primary AND trace abundance:\"\n",
    "tabulate lab_fentanyl_any"
   ]
  },
  {
   "cell_type": "markdown",
   "id": "dd7b3f94-d9c2-44c9-88a9-c4a921db231a",
   "metadata": {},
   "source": [
    "So there were 10 samples with fentanyl in primary abundance, one sample where fentanyl was found in trace only. Let's get the `sampleid` for this sample."
   ]
  },
  {
   "cell_type": "code",
   "execution_count": 27,
   "id": "d7ebbdca-fa5f-4533-87e1-d840424c67f4",
   "metadata": {},
   "outputs": [
    {
     "name": "stdout",
     "output_type": "stream",
     "text": [
      "\n",
      "   sampleid |      Freq.     Percent        Cum.\n",
      "------------+-----------------------------------\n",
      "        901 |          1      100.00      100.00\n",
      "------------+-----------------------------------\n",
      "      Total |          1      100.00\n"
     ]
    }
   ],
   "source": [
    "tabulate sampleid if lab_fentanyl==0 & lab_fentanyl_any==1"
   ]
  },
  {
   "cell_type": "markdown",
   "id": "553129e7-f7dd-4236-90c7-c6251ae7f970",
   "metadata": {},
   "source": [
    "Sampleid 901 contains only fentanyl in trace quantities. Let's look at it more closely."
   ]
  },
  {
   "cell_type": "code",
   "execution_count": 28,
   "id": "cc2e79da-6e60-4311-8f6b-fc41d6af0499",
   "metadata": {},
   "outputs": [
    {
     "name": "stdout",
     "output_type": "stream",
     "text": [
      "\n",
      "     +---------------------------------------+\n",
      "     | sampleid         substance   abunda~e |\n",
      "     |---------------------------------------|\n",
      "106. |      901          fentanyl      trace |\n",
      "107. |      901   methamphetamine            |\n",
      "     +---------------------------------------+\n"
     ]
    }
   ],
   "source": [
    "list sampleid substance abundance if sampleid==\"901\""
   ]
  },
  {
   "cell_type": "markdown",
   "id": "8a023241-f6a8-4d17-a070-40ee52b92e05",
   "metadata": {},
   "source": [
    "The demo dataset uses 3-digit codes for the sampleid, whereas live data will have 6 digits. Variable `sampleid` is a string because some early IDs contained letters as well.<br>\n",
    "<br>\n",
    "Now, let's say we wanted to see what the expected substance was for sample 901. If it were a real sample we could just enter the sampleid on the streetsafe.supply results website. But let's do it with code here. The expected substance information is in the `CARD` dataframe."
   ]
  },
  {
   "cell_type": "code",
   "execution_count": 29,
   "id": "44604ad4-18af-4704-8711-4475635350ba",
   "metadata": {},
   "outputs": [
    {
     "name": "stdout",
     "output_type": "stream",
     "text": [
      "\n",
      "\n",
      "\n",
      "     +----------------------------+\n",
      "     | sampleid   expectedsubst~e |\n",
      "     |----------------------------|\n",
      " 20. |      901   methamphetamine |\n",
      "     +----------------------------+\n"
     ]
    }
   ],
   "source": [
    "// Option 1 - change frames\n",
    "frame change card\n",
    "list sampleid expectedsubstance if sampleid==\"901\""
   ]
  },
  {
   "cell_type": "code",
   "execution_count": 30,
   "id": "ab2da215-daa8-4c8a-bec4-62bf3818da09",
   "metadata": {},
   "outputs": [
    {
     "name": "stdout",
     "output_type": "stream",
     "text": [
      "\n",
      "\n",
      "  (all observations in frame lab matched)\n",
      "\n",
      "  (1 variable copied from linked frame)\n",
      "\n",
      "\n",
      "\n",
      "    Verbatim expected substance on card |      Freq.     Percent        Cum.\n",
      "----------------------------------------+-----------------------------------\n",
      "                        methamphetamine |          2      100.00      100.00\n",
      "----------------------------------------+-----------------------------------\n",
      "                                  Total |          2      100.00\n"
     ]
    }
   ],
   "source": [
    "// Option 2 - link frames\n",
    "** For Stata users you can use -frlink- to link the 2 dataframes and may make more efficient code without having to switch between frames.\n",
    "** Starting in `LAB` df because the m:1 linkage is easier syntax\n",
    "frame change lab\n",
    "frlink m:1 sampleid, frame(card)\n",
    "\n",
    "** Now we can stay within `LAB` dataframe\n",
    "frget expectedsubstance, from(card)\n",
    "drop card // drop auto-generated variable from -frget-\n",
    "tabulate expectedsubstance if sampleid==\"901\""
   ]
  },
  {
   "cell_type": "markdown",
   "id": "d51c7473-6ff3-4a12-aa63-ff3d45fcccab",
   "metadata": {},
   "source": [
    "Here we get a similar answer but we can see that there are 2 rows in `LAB` dataframe, one for each substance."
   ]
  },
  {
   "cell_type": "code",
   "execution_count": 31,
   "id": "5c724180-c63a-448f-b25d-4cce70af96ba",
   "metadata": {},
   "outputs": [
    {
     "name": "stdout",
     "output_type": "stream",
     "text": [
      "\n",
      "     +---------------------------------------------------------+\n",
      "     | sampleid   expectedsubst~e         substance   abunda~e |\n",
      "     |---------------------------------------------------------|\n",
      "106. |      901   methamphetamine          fentanyl      trace |\n",
      "107. |      901   methamphetamine   methamphetamine            |\n",
      "     +---------------------------------------------------------+\n"
     ]
    }
   ],
   "source": [
    "list sampleid expectedsubstance substance abundance if sampleid==\"901\""
   ]
  },
  {
   "cell_type": "markdown",
   "id": "4fdcb574-accf-4a6b-bd44-c3577c6bab23",
   "metadata": {},
   "source": [
    "So it's now the analyst's call if you want to make this an exact match or not between expected and actual. Meth was expected AND detected in primary abundance. That's a positive match. However, fentanyl was not expected but was only found in trace abundance. That's something that would likely be worth letting the participant know about right? It's like a warning to be careful about their supply. In a different scenario where the trace substance was say 4-ANPP and the expected was fentanyl, it is less likely to be important that 4-ANPP wasn't expected since it doesn't have psychoactive properties."
   ]
  }
 ],
 "metadata": {
  "kernelspec": {
   "display_name": "Stata",
   "language": "stata",
   "name": "stata"
  },
  "language_info": {
   "codemirror_mode": "stata",
   "file_extension": ".do",
   "mimetype": "text/x-stata",
   "name": "stata",
   "version": "15.1"
  }
 },
 "nbformat": 4,
 "nbformat_minor": 5
}
